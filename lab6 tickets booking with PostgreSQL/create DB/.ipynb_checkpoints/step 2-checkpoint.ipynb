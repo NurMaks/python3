{
 "cells": [
  {
   "cell_type": "code",
   "execution_count": 1,
   "metadata": {},
   "outputs": [],
   "source": [
    "import requests\n",
    "from bs4 import BeautifulSoup as bs\n",
    "import pandas as pd\n",
    "\n",
    "r = requests.get(\"http://www.kino.kz/new/movies_list\")\n",
    "c = r.content\n",
    "soup = bs(c, \"html.parser\")"
   ]
  },
  {
   "cell_type": "code",
   "execution_count": 2,
   "metadata": {},
   "outputs": [],
   "source": [
    "table = soup.find(\"table\", {\"class\":\"movies-list\"})"
   ]
  },
  {
   "cell_type": "code",
   "execution_count": 3,
   "metadata": {},
   "outputs": [],
   "source": [
    "tbody = table.find(\"tbody\")\n",
    "tr = tbody.findAll(\"tr\")"
   ]
  },
  {
   "cell_type": "code",
   "execution_count": 4,
   "metadata": {},
   "outputs": [],
   "source": [
    "data = []"
   ]
  },
  {
   "cell_type": "code",
   "execution_count": 5,
   "metadata": {
    "scrolled": false
   },
   "outputs": [],
   "source": [
    "for item in tr:\n",
    "    try:\n",
    "        arr = {}\n",
    "        arr[\"name\"] = item.findAll(\"td\")[1].text\n",
    "        arr[\"date\"] = item.findAll(\"td\")[0].text\n",
    "        data.append(arr)\n",
    "    except:\n",
    "        pass"
   ]
  },
  {
   "cell_type": "code",
   "execution_count": 6,
   "metadata": {},
   "outputs": [],
   "source": [
    "data = data[317:]"
   ]
  },
  {
   "cell_type": "code",
   "execution_count": 7,
   "metadata": {},
   "outputs": [],
   "source": [
    "import psycopg2"
   ]
  },
  {
   "cell_type": "code",
   "execution_count": 32,
   "metadata": {},
   "outputs": [],
   "source": [
    "conn = psycopg2.connect(database=\"Movie List\", user=\"postgres\", password=\"maksat\", host=\"localhost\", port=\"5432\")\n",
    "c = conn.cursor()"
   ]
  },
  {
   "cell_type": "code",
   "execution_count": 9,
   "metadata": {},
   "outputs": [],
   "source": [
    "c.execute(\"INSERT INTO Cinemas (name) VALUES('StarCinema (Молл Апорт)')\")\n",
    "c.execute(\"INSERT INTO Cinemas (name) VALUES('Cinema Towers 3D')\")\n",
    "c.execute(\"INSERT INTO Cinemas (name) VALUES('Cinemax (Dostyk Plaza)')\")\n",
    "c.execute(\"INSERT INTO Cinemas (name) VALUES('Kinopark 8 Moskva')\")\n",
    "c.execute(\"INSERT INTO Cinemas (name) VALUES('Kinoplexx Sary Arka')\")\n",
    "c.execute(\"INSERT INTO Cinemas (name) VALUES('Bekmambetov Cinema (Globus)')\")\n",
    "conn.commit()"
   ]
  },
  {
   "cell_type": "code",
   "execution_count": 10,
   "metadata": {},
   "outputs": [
    {
     "data": {
      "text/plain": [
       "42"
      ]
     },
     "execution_count": 10,
     "metadata": {},
     "output_type": "execute_result"
    }
   ],
   "source": [
    "len(data[10:])"
   ]
  },
  {
   "cell_type": "code",
   "execution_count": 11,
   "metadata": {},
   "outputs": [],
   "source": [
    "for kino in data[10:]:\n",
    "    c.execute(\"INSERT INTO Films (name) VALUES('\"+str(kino['name'])+\"')\")\n",
    "conn.commit()"
   ]
  },
  {
   "cell_type": "code",
   "execution_count": 12,
   "metadata": {},
   "outputs": [],
   "source": [
    "cinema = 1\n",
    "one  =  [\"10:00\", \"10:25\", \"10:40\"]\n",
    "two  =  [\"12:10\", \"12:45\", \"13:00\"]\n",
    "three = [\"15:00\", \"15:15\", \"15:25\"]\n",
    "four =  [\"18:00\", \"18:10\", \"18:25\"]\n",
    "five =  [\"19:00\", \"20:00\", \"20:10\"]\n",
    "six  =  [\"22:15\", \"22:45\", \"23:00\"]\n",
    "seven = [\"00:15\", \"00:45\", \"00:50\"]"
   ]
  },
  {
   "cell_type": "code",
   "execution_count": 13,
   "metadata": {},
   "outputs": [],
   "source": [
    "for ind in range(1, 43):\n",
    "    c.execute(\"INSERT INTO Times (cinema_id, film_id, time, price) VALUES(\"+str(cinema)+\", \"+str(ind)+\", '\"+one[ind%3]+\"', 700)\")\n",
    "    c.execute(\"INSERT INTO Times (cinema_id, film_id, time, price) VALUES(\"+str(cinema)+\", \"+str(ind)+\", '\"+two[ind%3]+\"', 800)\")\n",
    "    c.execute(\"INSERT INTO Times (cinema_id, film_id, time, price) VALUES(\"+str(cinema)+\", \"+str(ind)+\", '\"+three[ind%3]+\"', 900)\")\n",
    "    c.execute(\"INSERT INTO Times (cinema_id, film_id, time, price) VALUES(\"+str(cinema)+\", \"+str(ind)+\", '\"+four[ind%3]+\"', 1000)\")\n",
    "    c.execute(\"INSERT INTO Times (cinema_id, film_id, time, price) VALUES(\"+str(cinema)+\", \"+str(ind)+\", '\"+five[ind%3]+\"', 1200)\")\n",
    "    c.execute(\"INSERT INTO Times (cinema_id, film_id, time, price) VALUES(\"+str(cinema)+\", \"+str(ind)+\", '\"+six[ind%3]+\"', 1300)\")\n",
    "    c.execute(\"INSERT INTO Times (cinema_id, film_id, time, price) VALUES(\"+str(cinema)+\", \"+str(ind)+\", '\"+seven[ind%3]+\"', 1500)\")"
   ]
  },
  {
   "cell_type": "code",
   "execution_count": 14,
   "metadata": {},
   "outputs": [],
   "source": [
    "cinema = 2\n",
    "one  =  [\"10:00\", \"10:40\", \"10:25\"]\n",
    "two  =  [\"12:10\", \"13:00\", \"12:45\"]\n",
    "three = [\"15:00\", \"15:25\", \"15:15\"]\n",
    "four =  [\"18:00\", \"18:25\", \"18:10\"]\n",
    "five =  [\"19:00\", \"20:10\", \"20:00\"]\n",
    "six  =  [\"22:15\", \"23:00\", \"22:45\"]\n",
    "seven = [\"00:15\", \"00:50\", \"00:45\"]"
   ]
  },
  {
   "cell_type": "code",
   "execution_count": 15,
   "metadata": {},
   "outputs": [],
   "source": [
    "for ind in range(1, 43):\n",
    "    c.execute(\"INSERT INTO Times (cinema_id, film_id, time, price) VALUES(\"+str(cinema)+\", \"+str(ind)+\", '\"+one[ind%3]+\"', 700)\")\n",
    "    c.execute(\"INSERT INTO Times (cinema_id, film_id, time, price) VALUES(\"+str(cinema)+\", \"+str(ind)+\", '\"+two[ind%3]+\"', 800)\")\n",
    "    c.execute(\"INSERT INTO Times (cinema_id, film_id, time, price) VALUES(\"+str(cinema)+\", \"+str(ind)+\", '\"+three[ind%3]+\"', 900)\")\n",
    "    c.execute(\"INSERT INTO Times (cinema_id, film_id, time, price) VALUES(\"+str(cinema)+\", \"+str(ind)+\", '\"+four[ind%3]+\"', 1000)\")\n",
    "    c.execute(\"INSERT INTO Times (cinema_id, film_id, time, price) VALUES(\"+str(cinema)+\", \"+str(ind)+\", '\"+five[ind%3]+\"', 1200)\")\n",
    "    c.execute(\"INSERT INTO Times (cinema_id, film_id, time, price) VALUES(\"+str(cinema)+\", \"+str(ind)+\", '\"+six[ind%3]+\"', 1300)\")\n",
    "    c.execute(\"INSERT INTO Times (cinema_id, film_id, time, price) VALUES(\"+str(cinema)+\", \"+str(ind)+\", '\"+seven[ind%3]+\"', 1500)\")"
   ]
  },
  {
   "cell_type": "code",
   "execution_count": 16,
   "metadata": {},
   "outputs": [],
   "source": [
    "cinema = 3\n",
    "one  =  [\"10:25\", \"10:40\", \"10:00\"]\n",
    "two  =  [\"12:45\", \"13:00\", \"12:10\"]\n",
    "three = [\"15:15\", \"15:25\", \"15:00\"]\n",
    "four =  [\"18:10\", \"18:25\", \"18:00\"]\n",
    "five =  [\"20:00\", \"20:10\", \"19:00\"]\n",
    "six  =  [\"22:45\", \"23:00\", \"22:15\"]\n",
    "seven = [\"00:45\", \"00:50\", \"00:15\"]"
   ]
  },
  {
   "cell_type": "code",
   "execution_count": 17,
   "metadata": {},
   "outputs": [],
   "source": [
    "for ind in range(1, 43):\n",
    "    c.execute(\"INSERT INTO Times (cinema_id, film_id, time, price) VALUES(\"+str(cinema)+\", \"+str(ind)+\", '\"+one[ind%3]+\"', 700)\")\n",
    "    c.execute(\"INSERT INTO Times (cinema_id, film_id, time, price) VALUES(\"+str(cinema)+\", \"+str(ind)+\", '\"+two[ind%3]+\"', 800)\")\n",
    "    c.execute(\"INSERT INTO Times (cinema_id, film_id, time, price) VALUES(\"+str(cinema)+\", \"+str(ind)+\", '\"+three[ind%3]+\"', 900)\")\n",
    "    c.execute(\"INSERT INTO Times (cinema_id, film_id, time, price) VALUES(\"+str(cinema)+\", \"+str(ind)+\", '\"+four[ind%3]+\"', 1000)\")\n",
    "    c.execute(\"INSERT INTO Times (cinema_id, film_id, time, price) VALUES(\"+str(cinema)+\", \"+str(ind)+\", '\"+five[ind%3]+\"', 1200)\")\n",
    "    c.execute(\"INSERT INTO Times (cinema_id, film_id, time, price) VALUES(\"+str(cinema)+\", \"+str(ind)+\", '\"+six[ind%3]+\"', 1300)\")\n",
    "    c.execute(\"INSERT INTO Times (cinema_id, film_id, time, price) VALUES(\"+str(cinema)+\", \"+str(ind)+\", '\"+seven[ind%3]+\"', 1500)\")"
   ]
  },
  {
   "cell_type": "code",
   "execution_count": 18,
   "metadata": {},
   "outputs": [],
   "source": [
    "cinema = 4\n",
    "one  =  [\"10:25\", \"10:00\", \"10:40\"]\n",
    "two  =  [\"12:45\", \"12:10\", \"13:00\"]\n",
    "three = [\"15:15\", \"15:00\", \"15:25\"]\n",
    "four =  [\"18:10\", \"18:00\", \"18:25\"]\n",
    "five =  [\"20:00\", \"19:00\", \"20:10\"]\n",
    "six  =  [\"22:45\", \"22:15\", \"23:00\"]\n",
    "seven = [\"00:45\", \"00:15\", \"00:50\"]"
   ]
  },
  {
   "cell_type": "code",
   "execution_count": 19,
   "metadata": {},
   "outputs": [],
   "source": [
    "for ind in range(1, 43):\n",
    "    c.execute(\"INSERT INTO Times (cinema_id, film_id, time, price) VALUES(\"+str(cinema)+\", \"+str(ind)+\", '\"+one[ind%3]+\"', 700)\")\n",
    "    c.execute(\"INSERT INTO Times (cinema_id, film_id, time, price) VALUES(\"+str(cinema)+\", \"+str(ind)+\", '\"+two[ind%3]+\"', 800)\")\n",
    "    c.execute(\"INSERT INTO Times (cinema_id, film_id, time, price) VALUES(\"+str(cinema)+\", \"+str(ind)+\", '\"+three[ind%3]+\"', 900)\")\n",
    "    c.execute(\"INSERT INTO Times (cinema_id, film_id, time, price) VALUES(\"+str(cinema)+\", \"+str(ind)+\", '\"+four[ind%3]+\"', 1000)\")\n",
    "    c.execute(\"INSERT INTO Times (cinema_id, film_id, time, price) VALUES(\"+str(cinema)+\", \"+str(ind)+\", '\"+five[ind%3]+\"', 1200)\")\n",
    "    c.execute(\"INSERT INTO Times (cinema_id, film_id, time, price) VALUES(\"+str(cinema)+\", \"+str(ind)+\", '\"+six[ind%3]+\"', 1300)\")\n",
    "    c.execute(\"INSERT INTO Times (cinema_id, film_id, time, price) VALUES(\"+str(cinema)+\", \"+str(ind)+\", '\"+seven[ind%3]+\"', 1500)\")"
   ]
  },
  {
   "cell_type": "code",
   "execution_count": 20,
   "metadata": {},
   "outputs": [],
   "source": [
    "cinema = 5\n",
    "one  =  [\"10:40\", \"10:00\", \"10:25\"]\n",
    "two  =  [\"13:00\", \"12:10\", \"12:45\"]\n",
    "three = [\"15:25\", \"15:00\", \"15:15\"]\n",
    "four =  [\"18:25\", \"18:00\", \"18:10\"]\n",
    "five =  [\"20:10\", \"19:00\", \"20:00\"]\n",
    "six  =  [\"23:00\", \"22:15\", \"22:45\"]\n",
    "seven = [\"00:50\", \"00:15\", \"00:45\"]"
   ]
  },
  {
   "cell_type": "code",
   "execution_count": 21,
   "metadata": {},
   "outputs": [],
   "source": [
    "for ind in range(1, 43):\n",
    "    c.execute(\"INSERT INTO Times (cinema_id, film_id, time, price) VALUES(\"+str(cinema)+\", \"+str(ind)+\", '\"+one[ind%3]+\"', 700)\")\n",
    "    c.execute(\"INSERT INTO Times (cinema_id, film_id, time, price) VALUES(\"+str(cinema)+\", \"+str(ind)+\", '\"+two[ind%3]+\"', 800)\")\n",
    "    c.execute(\"INSERT INTO Times (cinema_id, film_id, time, price) VALUES(\"+str(cinema)+\", \"+str(ind)+\", '\"+three[ind%3]+\"', 900)\")\n",
    "    c.execute(\"INSERT INTO Times (cinema_id, film_id, time, price) VALUES(\"+str(cinema)+\", \"+str(ind)+\", '\"+four[ind%3]+\"', 1000)\")\n",
    "    c.execute(\"INSERT INTO Times (cinema_id, film_id, time, price) VALUES(\"+str(cinema)+\", \"+str(ind)+\", '\"+five[ind%3]+\"', 1200)\")\n",
    "    c.execute(\"INSERT INTO Times (cinema_id, film_id, time, price) VALUES(\"+str(cinema)+\", \"+str(ind)+\", '\"+six[ind%3]+\"', 1300)\")\n",
    "    c.execute(\"INSERT INTO Times (cinema_id, film_id, time, price) VALUES(\"+str(cinema)+\", \"+str(ind)+\", '\"+seven[ind%3]+\"', 1500)\")"
   ]
  },
  {
   "cell_type": "code",
   "execution_count": 22,
   "metadata": {},
   "outputs": [],
   "source": [
    "cinema = 6\n",
    "one  =  [\"10:40\", \"10:25\", \"10:00\"]\n",
    "two  =  [\"13:00\", \"12:45\", \"12:10\"]\n",
    "three = [\"15:25\", \"15:15\", \"15:00\"]\n",
    "four =  [\"18:25\", \"18:10\", \"18:00\"]\n",
    "five =  [\"20:10\", \"20:00\", \"19:00\"]\n",
    "six  =  [\"23:00\", \"22:45\", \"22:15\"]\n",
    "seven = [\"00:50\", \"00:45\", \"00:15\"]"
   ]
  },
  {
   "cell_type": "code",
   "execution_count": 23,
   "metadata": {},
   "outputs": [],
   "source": [
    "for ind in range(1, 43):\n",
    "    c.execute(\"INSERT INTO Times (cinema_id, film_id, time, price) VALUES(\"+str(cinema)+\", \"+str(ind)+\", '\"+one[ind%3]+\"', 700)\")\n",
    "    c.execute(\"INSERT INTO Times (cinema_id, film_id, time, price) VALUES(\"+str(cinema)+\", \"+str(ind)+\", '\"+two[ind%3]+\"', 800)\")\n",
    "    c.execute(\"INSERT INTO Times (cinema_id, film_id, time, price) VALUES(\"+str(cinema)+\", \"+str(ind)+\", '\"+three[ind%3]+\"', 900)\")\n",
    "    c.execute(\"INSERT INTO Times (cinema_id, film_id, time, price) VALUES(\"+str(cinema)+\", \"+str(ind)+\", '\"+four[ind%3]+\"', 1000)\")\n",
    "    c.execute(\"INSERT INTO Times (cinema_id, film_id, time, price) VALUES(\"+str(cinema)+\", \"+str(ind)+\", '\"+five[ind%3]+\"', 1200)\")\n",
    "    c.execute(\"INSERT INTO Times (cinema_id, film_id, time, price) VALUES(\"+str(cinema)+\", \"+str(ind)+\", '\"+six[ind%3]+\"', 1300)\")\n",
    "    c.execute(\"INSERT INTO Times (cinema_id, film_id, time, price) VALUES(\"+str(cinema)+\", \"+str(ind)+\", '\"+seven[ind%3]+\"', 1500)\")"
   ]
  },
  {
   "cell_type": "code",
   "execution_count": null,
   "metadata": {},
   "outputs": [],
   "source": []
  },
  {
   "cell_type": "code",
   "execution_count": 24,
   "metadata": {},
   "outputs": [],
   "source": [
    "conn.commit()"
   ]
  },
  {
   "cell_type": "code",
   "execution_count": 33,
   "metadata": {},
   "outputs": [
    {
     "data": {
      "text/plain": [
       "1764"
      ]
     },
     "execution_count": 33,
     "metadata": {},
     "output_type": "execute_result"
    }
   ],
   "source": [
    "c.execute(\"SELECT * FROM Times;\")\n",
    "len(c.fetchall())"
   ]
  },
  {
   "cell_type": "code",
   "execution_count": 34,
   "metadata": {},
   "outputs": [],
   "source": [
    "import random\n",
    "hall_id = 1\n",
    "time_id = 1765\n",
    "status = 0\n",
    "for time in range(1, time_id):\n",
    "    n = random.randint(0,18)\n",
    "    rand = random.sample(range(1, 20), n)\n",
    "    for place in range(1, 21):\n",
    "        if place in rand:\n",
    "            status = 1\n",
    "        else:\n",
    "            status = 0\n",
    "        c.execute(\"INSERT INTO Halls VALUES(\"+str(hall_id)+\", \"+str(time)+\", \"+str(place)+\", \"+str(status)+\")\")\n",
    "        hall_id += 1\n",
    "conn.commit()"
   ]
  },
  {
   "cell_type": "code",
   "execution_count": null,
   "metadata": {},
   "outputs": [],
   "source": []
  },
  {
   "cell_type": "code",
   "execution_count": 35,
   "metadata": {},
   "outputs": [],
   "source": [
    "conn.commit()\n",
    "c.close()\n",
    "conn.close()"
   ]
  }
 ],
 "metadata": {
  "kernelspec": {
   "display_name": "Python 3",
   "language": "python",
   "name": "python3"
  },
  "language_info": {
   "codemirror_mode": {
    "name": "ipython",
    "version": 3
   },
   "file_extension": ".py",
   "mimetype": "text/x-python",
   "name": "python",
   "nbconvert_exporter": "python",
   "pygments_lexer": "ipython3",
   "version": "3.6.5"
  }
 },
 "nbformat": 4,
 "nbformat_minor": 2
}

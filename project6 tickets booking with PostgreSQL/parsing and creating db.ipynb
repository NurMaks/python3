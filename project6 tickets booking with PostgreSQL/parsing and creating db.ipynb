{
 "cells": [
  {
   "cell_type": "code",
   "execution_count": 1,
   "metadata": {},
   "outputs": [],
   "source": [
    "import requests\n",
    "from bs4 import BeautifulSoup as bs\n",
    "import pandas as pd\n",
    "\n",
    "r = requests.get(\"http://www.kino.kz/new/movies_list\")\n",
    "c = r.content\n",
    "soup = bs(c, \"html.parser\")"
   ]
  },
  {
   "cell_type": "code",
   "execution_count": 17,
   "metadata": {},
   "outputs": [],
   "source": [
    "table = soup.find(\"table\", {\"class\":\"movies-list\"})"
   ]
  },
  {
   "cell_type": "code",
   "execution_count": 18,
   "metadata": {},
   "outputs": [],
   "source": [
    "tbody = table.find(\"tbody\")\n",
    "tr = tbody.findAll(\"tr\")"
   ]
  },
  {
   "cell_type": "code",
   "execution_count": 19,
   "metadata": {},
   "outputs": [],
   "source": [
    "data = []"
   ]
  },
  {
   "cell_type": "code",
   "execution_count": 20,
   "metadata": {
    "scrolled": false
   },
   "outputs": [],
   "source": [
    "for item in tr:\n",
    "    try:\n",
    "        arr = {}\n",
    "        arr[\"name\"] = item.findAll(\"td\")[1].text\n",
    "        arr[\"date\"] = item.findAll(\"td\")[0].text\n",
    "        data.append(arr)\n",
    "    except:\n",
    "        pass"
   ]
  },
  {
   "cell_type": "code",
   "execution_count": 21,
   "metadata": {},
   "outputs": [],
   "source": [
    "data = data[317:]"
   ]
  },
  {
   "cell_type": "code",
   "execution_count": 47,
   "metadata": {},
   "outputs": [],
   "source": [
    "import sqlite3\n",
    "\n",
    "conn = sqlite3.connect('tickets.db')\n",
    "c = conn.cursor()"
   ]
  },
  {
   "cell_type": "code",
   "execution_count": 23,
   "metadata": {},
   "outputs": [
    {
     "data": {
      "text/plain": [
       "<sqlite3.Cursor at 0x1d269d7a500>"
      ]
     },
     "execution_count": 23,
     "metadata": {},
     "output_type": "execute_result"
    }
   ],
   "source": [
    "c.execute(\"CREATE TABLE IF NOT EXISTS Cinema (cinema_id INTEGER, cinema TEXT)\")\n",
    "c.execute(\"CREATE TABLE IF NOT EXISTS Kino (kino_id INTEGER, kino TEXT)\")\n",
    "c.execute(\"CREATE TABLE IF NOT EXISTS Time (time_id INTEGER, cinema_id INTEGER, kino_id INTEGER, time TEXT, price INTEGER)\")\n",
    "c.execute(\"CREATE TABLE IF NOT EXISTS Hall (hall_id INTEGER, time_id INTEGER, placeNumber INTEGER, status INTEGER)\")"
   ]
  },
  {
   "cell_type": "code",
   "execution_count": 24,
   "metadata": {},
   "outputs": [
    {
     "data": {
      "text/plain": [
       "<sqlite3.Cursor at 0x1d269d7a500>"
      ]
     },
     "execution_count": 24,
     "metadata": {},
     "output_type": "execute_result"
    }
   ],
   "source": [
    "c.execute(\"INSERT INTO Cinema VALUES(1, 'StarCinema (Молл Апорт)')\")\n",
    "c.execute(\"INSERT INTO Cinema VALUES(2, 'Cinema Towers 3D')\")\n",
    "c.execute(\"INSERT INTO Cinema VALUES(3, 'Cinemax (Dostyk Plaza)')\")\n",
    "c.execute(\"INSERT INTO Cinema VALUES(4, 'Kinopark 8 Moskva')\")\n",
    "c.execute(\"INSERT INTO Cinema VALUES(5, 'Kinoplexx Sary Arka')\")"
   ]
  },
  {
   "cell_type": "code",
   "execution_count": 27,
   "metadata": {},
   "outputs": [],
   "source": [
    "index = 1\n",
    "for kino in data[:20]:\n",
    "    c.execute(\"INSERT INTO Kino VALUES(\"+str(index)+\", '\"+str(kino['name'])+\"')\")\n",
    "    index += 1"
   ]
  },
  {
   "cell_type": "code",
   "execution_count": 28,
   "metadata": {},
   "outputs": [],
   "source": [
    "index = 1"
   ]
  },
  {
   "cell_type": "code",
   "execution_count": 38,
   "metadata": {},
   "outputs": [],
   "source": [
    "cinema = 5\n",
    "one  =  [\"10:25\", \"10:40\", \"10:00\"]\n",
    "two  =  [\"12:45\", \"13:00\", \"12:10\"]\n",
    "three = [\"15:15\", \"15:25\", \"15:00\"]\n",
    "four =  [\"18:10\", \"18:25\", \"18:00\"]\n",
    "five =  [\"20:00\", \"20:10\", \"19:00\"]\n",
    "six  =  [\"22:45\", \"23:00\", \"22:15\"]\n",
    "seven = [\"00:45\", \"00:50\", \"00:15\"]"
   ]
  },
  {
   "cell_type": "code",
   "execution_count": 39,
   "metadata": {},
   "outputs": [],
   "source": [
    "for ind in range(1, 21):\n",
    "    c.execute(\"INSERT INTO Time VALUES(\"+str(index)+\", \"+str(cinema)+\", \"+str(ind)+\", '\"+one[ind%3]+\"', 700)\")\n",
    "    index += 1\n",
    "    c.execute(\"INSERT INTO Time VALUES(\"+str(index)+\", \"+str(cinema)+\", \"+str(ind)+\", '\"+two[ind%3]+\"', 800)\")\n",
    "    index += 1\n",
    "    c.execute(\"INSERT INTO Time VALUES(\"+str(index)+\", \"+str(cinema)+\", \"+str(ind)+\", '\"+three[ind%3]+\"', 900)\")\n",
    "    index += 1\n",
    "    c.execute(\"INSERT INTO Time VALUES(\"+str(index)+\", \"+str(cinema)+\", \"+str(ind)+\", '\"+four[ind%3]+\"', 1000)\")\n",
    "    index += 1\n",
    "    c.execute(\"INSERT INTO Time VALUES(\"+str(index)+\", \"+str(cinema)+\", \"+str(ind)+\", '\"+five[ind%3]+\"', 1200)\")\n",
    "    index += 1\n",
    "    c.execute(\"INSERT INTO Time VALUES(\"+str(index)+\", \"+str(cinema)+\", \"+str(ind)+\", '\"+six[ind%3]+\"', 1300)\")\n",
    "    index += 1\n",
    "    c.execute(\"INSERT INTO Time VALUES(\"+str(index)+\", \"+str(cinema)+\", \"+str(ind)+\", '\"+seven[ind%3]+\"', 1500)\")\n",
    "    index += 1"
   ]
  },
  {
   "cell_type": "code",
   "execution_count": 62,
   "metadata": {},
   "outputs": [],
   "source": [
    "import random\n",
    "hall_id = 1\n",
    "time_id = 700\n",
    "status = 0\n",
    "for time in range(1, 701):\n",
    "    n = random.randint(0,20)\n",
    "    rand = random.sample(range(1, 21), n)\n",
    "    for place in range(1, 21):\n",
    "        if place in rand:\n",
    "            status = 1\n",
    "        else:\n",
    "            status = 0\n",
    "        c.execute(\"INSERT INTO Hall VALUES(\"+str(hall_id)+\", \"+str(time)+\", \"+str(place)+\", \"+str(status)+\")\")\n",
    "        hall_id += 1\n",
    "conn.commit()"
   ]
  },
  {
   "cell_type": "code",
   "execution_count": 44,
   "metadata": {},
   "outputs": [],
   "source": [
    "# for x in c.execute(\"SELECT placeNumber, status FROM Hall WHERE time_id=1\"):\n",
    "#     print(x)"
   ]
  },
  {
   "cell_type": "code",
   "execution_count": null,
   "metadata": {},
   "outputs": [],
   "source": []
  },
  {
   "cell_type": "code",
   "execution_count": null,
   "metadata": {},
   "outputs": [],
   "source": []
  },
  {
   "cell_type": "code",
   "execution_count": 45,
   "metadata": {},
   "outputs": [],
   "source": [
    "conn.commit()\n",
    "c.close()\n",
    "conn.close()"
   ]
  }
 ],
 "metadata": {
  "kernelspec": {
   "display_name": "Python 3",
   "language": "python",
   "name": "python3"
  },
  "language_info": {
   "codemirror_mode": {
    "name": "ipython",
    "version": 3
   },
   "file_extension": ".py",
   "mimetype": "text/x-python",
   "name": "python",
   "nbconvert_exporter": "python",
   "pygments_lexer": "ipython3",
   "version": "3.6.5"
  }
 },
 "nbformat": 4,
 "nbformat_minor": 2
}
